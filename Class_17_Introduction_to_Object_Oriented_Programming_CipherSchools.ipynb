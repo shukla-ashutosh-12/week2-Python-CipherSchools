{
  "nbformat": 4,
  "nbformat_minor": 0,
  "metadata": {
    "colab": {
      "provenance": [],
      "include_colab_link": true
    },
    "kernelspec": {
      "name": "python3",
      "display_name": "Python 3"
    },
    "language_info": {
      "name": "python"
    }
  },
  "cells": [
    {
      "cell_type": "markdown",
      "metadata": {
        "id": "view-in-github",
        "colab_type": "text"
      },
      "source": [
        "<a href=\"https://colab.research.google.com/github/shukla-ashutosh-12/week2-Python-CipherSchools/blob/master/Class_17_Introduction_to_Object_Oriented_Programming_CipherSchools.ipynb\" target=\"_parent\"><img src=\"https://colab.research.google.com/assets/colab-badge.svg\" alt=\"Open In Colab\"/></a>"
      ]
    },
    {
      "cell_type": "code",
      "execution_count": null,
      "metadata": {
        "id": "j8KUppz96bCm"
      },
      "outputs": [],
      "source": [
        "#object orientated programming language"
      ]
    },
    {
      "cell_type": "code",
      "source": [
        "#Abstraction\n",
        "#Encapsulation\n",
        "#inheitence\n",
        "#polymorphism"
      ],
      "metadata": {
        "id": "tpmpGg-2NTHC"
      },
      "execution_count": null,
      "outputs": []
    },
    {
      "cell_type": "code",
      "source": [
        "#Abstraction = need to know basis"
      ],
      "metadata": {
        "id": "nrxsU8TwOMeO"
      },
      "execution_count": null,
      "outputs": []
    },
    {
      "cell_type": "code",
      "source": [
        "student1 = {\n",
        "    \"name\":\"Jatin Katyal\",\n",
        "    \"marks\": 50\n",
        "}\n",
        "student2 = {\n",
        "    \"name\": \"Samarth\",\n",
        "    \"marks\": 100\n",
        "}"
      ],
      "metadata": {
        "id": "KL3ueidENTJd"
      },
      "execution_count": null,
      "outputs": []
    },
    {
      "cell_type": "code",
      "source": [
        "print()"
      ],
      "metadata": {
        "colab": {
          "base_uri": "https://localhost:8080/"
        },
        "id": "rdXhxGYANTMF",
        "outputId": "0c9206a7-51d5-4b05-a45b-36b09ddb290b"
      },
      "execution_count": null,
      "outputs": [
        {
          "output_type": "stream",
          "name": "stdout",
          "text": [
            "\n"
          ]
        }
      ]
    },
    {
      "cell_type": "code",
      "source": [
        "#A minimal example of class"
      ],
      "metadata": {
        "id": "RW5xEosuOn_q"
      },
      "execution_count": null,
      "outputs": []
    },
    {
      "cell_type": "code",
      "source": [
        "#python object can have multiple attributes\n",
        "\n",
        "#-collable(e.g. functions and classes)\n",
        "#-iterable(e.g. list,string and generator)\n",
        "#-contextable(e.g. files)"
      ],
      "metadata": {
        "id": "UwcLvhEMOrEC"
      },
      "execution_count": null,
      "outputs": []
    },
    {
      "cell_type": "code",
      "source": [
        "a()"
      ],
      "metadata": {
        "colab": {
          "base_uri": "https://localhost:8080/",
          "height": 198
        },
        "id": "dxuicpZ-On5-",
        "outputId": "aad15533-fa43-4956-f199-32f217c2894a"
      },
      "execution_count": null,
      "outputs": [
        {
          "output_type": "error",
          "ename": "NameError",
          "evalue": "ignored",
          "traceback": [
            "\u001b[0;31m---------------------------------------------------------------------------\u001b[0m",
            "\u001b[0;31mNameError\u001b[0m                                 Traceback (most recent call last)",
            "\u001b[0;32m<ipython-input-8-8d7b4527e81d>\u001b[0m in \u001b[0;36m<module>\u001b[0;34m\u001b[0m\n\u001b[0;32m----> 1\u001b[0;31m \u001b[0ma\u001b[0m\u001b[0;34m(\u001b[0m\u001b[0;34m)\u001b[0m\u001b[0;34m\u001b[0m\u001b[0;34m\u001b[0m\u001b[0m\n\u001b[0m",
            "\u001b[0;31mNameError\u001b[0m: name 'a' is not defined"
          ]
        }
      ]
    },
    {
      "cell_type": "code",
      "source": [
        "class person:\n",
        "  pass\n",
        "\n",
        "p = person()\n",
        "print(p)"
      ],
      "metadata": {
        "colab": {
          "base_uri": "https://localhost:8080/"
        },
        "id": "s_aa_zXENTOs",
        "outputId": "fbc91ffa-b75a-46a3-d9d4-73cf0c2e3b45"
      },
      "execution_count": null,
      "outputs": [
        {
          "output_type": "stream",
          "name": "stdout",
          "text": [
            "<__main__.person object at 0x7fb049819f10>\n"
          ]
        }
      ]
    },
    {
      "cell_type": "code",
      "source": [
        "hex(id(p))"
      ],
      "metadata": {
        "colab": {
          "base_uri": "https://localhost:8080/",
          "height": 37
        },
        "id": "rJIG8RUnNTRD",
        "outputId": "ee1925e0-5c0e-46dc-f22d-cd0a3a6ff7af"
      },
      "execution_count": null,
      "outputs": [
        {
          "output_type": "execute_result",
          "data": {
            "text/plain": [
              "'0x7fb049819f10'"
            ],
            "application/vnd.google.colaboratory.intrinsic+json": {
              "type": "string"
            }
          },
          "metadata": {},
          "execution_count": 15
        }
      ]
    },
    {
      "cell_type": "code",
      "source": [],
      "metadata": {
        "id": "Xynswa5FNTTp"
      },
      "execution_count": null,
      "outputs": []
    },
    {
      "cell_type": "code",
      "source": [
        "a=1"
      ],
      "metadata": {
        "id": "oteimJHMNTWP"
      },
      "execution_count": null,
      "outputs": []
    },
    {
      "cell_type": "code",
      "source": [
        "a.square"
      ],
      "metadata": {
        "colab": {
          "base_uri": "https://localhost:8080/",
          "height": 198
        },
        "id": "9dstxCWWNTY3",
        "outputId": "f4768c49-bf38-4fa7-8e94-9bf71c2ba994"
      },
      "execution_count": null,
      "outputs": [
        {
          "output_type": "error",
          "ename": "AttributeError",
          "evalue": "ignored",
          "traceback": [
            "\u001b[0;31m---------------------------------------------------------------------------\u001b[0m",
            "\u001b[0;31mAttributeError\u001b[0m                            Traceback (most recent call last)",
            "\u001b[0;32m<ipython-input-20-1258e99bc9c6>\u001b[0m in \u001b[0;36m<module>\u001b[0;34m\u001b[0m\n\u001b[0;32m----> 1\u001b[0;31m \u001b[0ma\u001b[0m\u001b[0;34m.\u001b[0m\u001b[0msquare\u001b[0m\u001b[0;34m\u001b[0m\u001b[0;34m\u001b[0m\u001b[0m\n\u001b[0m",
            "\u001b[0;31mAttributeError\u001b[0m: 'int' object has no attribute 'square'"
          ]
        }
      ]
    },
    {
      "cell_type": "code",
      "source": [],
      "metadata": {
        "id": "HBa75Mg-NTbO"
      },
      "execution_count": null,
      "outputs": []
    },
    {
      "cell_type": "code",
      "source": [
        "class person:\n",
        "  name=\"Jatin\"\n",
        "  def say_hi(self):\n",
        "    self.name=\"Nikhil\"\n",
        "    print(\"Hello,how are you\"+self.name +\"2\")\n",
        "\n",
        "p=person()\n",
        "\n",
        "p.say_hi\n",
        "person.say_hi(p)"
      ],
      "metadata": {
        "colab": {
          "base_uri": "https://localhost:8080/"
        },
        "id": "FpCc8LljNTd0",
        "outputId": "5031f034-8a60-44b9-adbb-90d5a43be659"
      },
      "execution_count": null,
      "outputs": [
        {
          "output_type": "stream",
          "name": "stdout",
          "text": [
            "Hello,how are youNikhil2\n"
          ]
        }
      ]
    },
    {
      "cell_type": "code",
      "source": [
        "class person:\n",
        "  name=\"Jatin\"\n",
        "\n",
        "  def say_hi(this):\n",
        "    print(f\"Hello Everyone : I am {this.name}\" )\n",
        "\n",
        "p=person()\n",
        "\n",
        "p.say_hi #method cell\n",
        "person.say_hi(p) # function call"
      ],
      "metadata": {
        "colab": {
          "base_uri": "https://localhost:8080/"
        },
        "id": "W0I4d3MWNTgK",
        "outputId": "2b7833a6-a6c4-4a35-dc9d-4d450350b008"
      },
      "execution_count": null,
      "outputs": [
        {
          "output_type": "stream",
          "name": "stdout",
          "text": [
            "Hello Everyone : I am Jatin\n"
          ]
        }
      ]
    }
  ]
}