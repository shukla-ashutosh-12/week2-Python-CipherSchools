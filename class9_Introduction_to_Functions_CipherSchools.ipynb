{
  "nbformat": 4,
  "nbformat_minor": 0,
  "metadata": {
    "colab": {
      "provenance": [],
      "include_colab_link": true
    },
    "kernelspec": {
      "name": "python3",
      "display_name": "Python 3"
    },
    "language_info": {
      "name": "python"
    }
  },
  "cells": [
    {
      "cell_type": "markdown",
      "metadata": {
        "id": "view-in-github",
        "colab_type": "text"
      },
      "source": [
        "<a href=\"https://colab.research.google.com/github/shukla-ashutosh-12/week2-Python-CipherSchools/blob/master/class9_Introduction_to_Functions_CipherSchools.ipynb\" target=\"_parent\"><img src=\"https://colab.research.google.com/assets/colab-badge.svg\" alt=\"Open In Colab\"/></a>"
      ]
    },
    {
      "cell_type": "code",
      "execution_count": null,
      "metadata": {
        "id": "tSbAyf_m5mC8"
      },
      "outputs": [],
      "source": [
        "def show_loading():\n",
        "  for i in range(3):\n",
        "      print(\"loading\", \".\"+(i+1))"
      ]
    },
    {
      "cell_type": "code",
      "source": [
        "def sheldon_knock(name):\n",
        "  for i in range(3):\n",
        "     print(\"knock knock knock\", name)\n",
        "sheldon_knock(\"leopard\")     "
      ],
      "metadata": {
        "colab": {
          "base_uri": "https://localhost:8080/"
        },
        "id": "1Iojr57S56H_",
        "outputId": "47391aee-3110-4523-cdee-955152a1b859"
      },
      "execution_count": null,
      "outputs": [
        {
          "output_type": "stream",
          "name": "stdout",
          "text": [
            "knock knock knock leopard\n",
            "knock knock knock leopard\n",
            "knock knock knock leopard\n"
          ]
        }
      ]
    },
    {
      "cell_type": "code",
      "source": [
        "def sheldon_knock(name, times = 3):\n",
        "  for i in range(times):\n",
        "    print(\"knock knock knock\", name)\n",
        "sheldon_knock(\"penny\",12)   "
      ],
      "metadata": {
        "colab": {
          "base_uri": "https://localhost:8080/"
        },
        "id": "q1ndY0M856Rm",
        "outputId": "cfcce566-4541-45a7-fb63-5d1bcde3b404"
      },
      "execution_count": null,
      "outputs": [
        {
          "output_type": "stream",
          "name": "stdout",
          "text": [
            "knock knock knock penny\n",
            "knock knock knock penny\n",
            "knock knock knock penny\n",
            "knock knock knock penny\n",
            "knock knock knock penny\n",
            "knock knock knock penny\n",
            "knock knock knock penny\n",
            "knock knock knock penny\n",
            "knock knock knock penny\n",
            "knock knock knock penny\n",
            "knock knock knock penny\n",
            "knock knock knock penny\n"
          ]
        }
      ]
    },
    {
      "cell_type": "code",
      "source": [
        "#Return statement"
      ],
      "metadata": {
        "id": "KKs4fFCT56UZ"
      },
      "execution_count": null,
      "outputs": []
    },
    {
      "cell_type": "code",
      "source": [
        "def add(a, b):\n",
        "  return a+b\n",
        "\n",
        "print(add(1, 2))\n"
      ],
      "metadata": {
        "colab": {
          "base_uri": "https://localhost:8080/"
        },
        "id": "B1mDKUIm56Z9",
        "outputId": "917fa25d-8e57-49d9-87b3-31ae150a260a"
      },
      "execution_count": null,
      "outputs": [
        {
          "output_type": "stream",
          "name": "stdout",
          "text": [
            "3\n"
          ]
        }
      ]
    }
  ]
}