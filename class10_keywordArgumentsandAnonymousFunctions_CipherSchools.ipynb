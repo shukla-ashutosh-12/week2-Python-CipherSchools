{
  "nbformat": 4,
  "nbformat_minor": 0,
  "metadata": {
    "colab": {
      "provenance": [],
      "include_colab_link": true
    },
    "kernelspec": {
      "name": "python3",
      "display_name": "Python 3"
    },
    "language_info": {
      "name": "python"
    }
  },
  "cells": [
    {
      "cell_type": "markdown",
      "metadata": {
        "id": "view-in-github",
        "colab_type": "text"
      },
      "source": [
        "<a href=\"https://colab.research.google.com/github/shukla-ashutosh-12/week2-Python-CipherSchools/blob/master/class10_keywordArgumentsandAnonymousFunctions_CipherSchools.ipynb\" target=\"_parent\"><img src=\"https://colab.research.google.com/assets/colab-badge.svg\" alt=\"Open In Colab\"/></a>"
      ]
    },
    {
      "cell_type": "code",
      "execution_count": null,
      "metadata": {
        "colab": {
          "base_uri": "https://localhost:8080/"
        },
        "id": "Xmr3xtqR3EAn",
        "outputId": "c015789d-4d10-4caf-ac42-3ee7fe689a4b"
      },
      "outputs": [
        {
          "output_type": "stream",
          "name": "stdout",
          "text": [
            "a is 3 and b is  7 and c is  10\n",
            "a is 25 and b is  5 and c is  24\n",
            "a is 100 and b is  5 and c is  50\n"
          ]
        }
      ],
      "source": [
        "def func(a , b=5 , c=10):\n",
        "  print(\"a is\", a,'and b is ',b,'and c is ',c)\n",
        "func(3,7)\n",
        "func(25 ,c=24)\n",
        "func(c=50 ,a=100)\n",
        "     "
      ]
    },
    {
      "cell_type": "code",
      "source": [
        "print(1,2,3,4,5,6,sep=\",\")"
      ],
      "metadata": {
        "colab": {
          "base_uri": "https://localhost:8080/"
        },
        "id": "G79ZoN8g3M32",
        "outputId": "0ad07d81-de57-4edf-983c-24f397344276"
      },
      "execution_count": null,
      "outputs": [
        {
          "output_type": "stream",
          "name": "stdout",
          "text": [
            "1,2,3,4,5,6\n"
          ]
        }
      ]
    },
    {
      "cell_type": "code",
      "source": [
        "def func(a,b,c):\n",
        "  print(a)\n",
        "  print(b)\n",
        "  print(c)\n",
        "func(1,2,3)"
      ],
      "metadata": {
        "colab": {
          "base_uri": "https://localhost:8080/"
        },
        "id": "ohfpevhf3M6n",
        "outputId": "2e122498-1772-428f-b2cf-968075ae089c"
      },
      "execution_count": null,
      "outputs": [
        {
          "output_type": "stream",
          "name": "stdout",
          "text": [
            "1\n",
            "2\n",
            "3\n"
          ]
        }
      ]
    },
    {
      "cell_type": "code",
      "source": [
        "func(b=2,c=3,a=1)\n",
        "     "
      ],
      "metadata": {
        "colab": {
          "base_uri": "https://localhost:8080/"
        },
        "id": "v_1dwzf03M9N",
        "outputId": "dae23706-2c25-4839-92d7-00c31bcb5ffb"
      },
      "execution_count": null,
      "outputs": [
        {
          "output_type": "stream",
          "name": "stdout",
          "text": [
            "1\n",
            "2\n",
            "3\n"
          ]
        }
      ]
    },
    {
      "cell_type": "code",
      "source": [
        "def func():\n",
        "  print(\"hello\")\n"
      ],
      "metadata": {
        "id": "FztWeHsr3M_1"
      },
      "execution_count": null,
      "outputs": []
    },
    {
      "cell_type": "code",
      "source": [
        "def func(a):\n",
        "  print(a)"
      ],
      "metadata": {
        "id": "F-S4dZ0P3NCt"
      },
      "execution_count": null,
      "outputs": []
    },
    {
      "cell_type": "code",
      "source": [
        "func()\n",
        "func(1)"
      ],
      "metadata": {
        "colab": {
          "base_uri": "https://localhost:8080/",
          "height": 215
        },
        "id": "9WFysWQv3NFS",
        "outputId": "abae2211-8360-4a45-8f08-ec76b1f38146"
      },
      "execution_count": null,
      "outputs": [
        {
          "output_type": "error",
          "ename": "TypeError",
          "evalue": "ignored",
          "traceback": [
            "\u001b[0;31m---------------------------------------------------------------------------\u001b[0m",
            "\u001b[0;31mTypeError\u001b[0m                                 Traceback (most recent call last)",
            "\u001b[0;32m<ipython-input-8-d118ff648ae4>\u001b[0m in \u001b[0;36m<module>\u001b[0;34m\u001b[0m\n\u001b[0;32m----> 1\u001b[0;31m \u001b[0mfunc\u001b[0m\u001b[0;34m(\u001b[0m\u001b[0;34m)\u001b[0m\u001b[0;34m\u001b[0m\u001b[0;34m\u001b[0m\u001b[0m\n\u001b[0m\u001b[1;32m      2\u001b[0m \u001b[0mfunc\u001b[0m\u001b[0;34m(\u001b[0m\u001b[0;36m1\u001b[0m\u001b[0;34m)\u001b[0m\u001b[0;34m\u001b[0m\u001b[0;34m\u001b[0m\u001b[0m\n",
            "\u001b[0;31mTypeError\u001b[0m: func() missing 1 required positional argument: 'a'"
          ]
        }
      ]
    },
    {
      "cell_type": "code",
      "source": [
        "# hello="
      ],
      "metadata": {
        "id": "q2l5l1vd3NIK"
      },
      "execution_count": null,
      "outputs": []
    },
    {
      "cell_type": "code",
      "source": [
        "def hello():\n",
        "  print(\"hello world !\")\n",
        "a=1\n",
        "a=hello\n",
        "a()"
      ],
      "metadata": {
        "colab": {
          "base_uri": "https://localhost:8080/"
        },
        "id": "jRe8G4Mj3NKw",
        "outputId": "461a2da2-bd9e-47ad-9896-c1b1e245e238"
      },
      "execution_count": null,
      "outputs": [
        {
          "output_type": "stream",
          "name": "stdout",
          "text": [
            "hello world !\n"
          ]
        }
      ]
    },
    {
      "cell_type": "code",
      "source": [
        "type(hello)"
      ],
      "metadata": {
        "colab": {
          "base_uri": "https://localhost:8080/"
        },
        "id": "GKFVpNM93NNo",
        "outputId": "7b1ce91a-a8f4-4a48-c985-0b24b0e50267"
      },
      "execution_count": null,
      "outputs": [
        {
          "output_type": "execute_result",
          "data": {
            "text/plain": [
              "function"
            ]
          },
          "metadata": {},
          "execution_count": 11
        }
      ]
    },
    {
      "cell_type": "code",
      "source": [
        "hello =2\n",
        "print(hello)"
      ],
      "metadata": {
        "colab": {
          "base_uri": "https://localhost:8080/"
        },
        "id": "7_mhAakp3NQf",
        "outputId": "a32f61c3-2133-46e9-ad7b-bb9a5ef79869"
      },
      "execution_count": null,
      "outputs": [
        {
          "output_type": "stream",
          "name": "stdout",
          "text": [
            "2\n"
          ]
        }
      ]
    },
    {
      "cell_type": "code",
      "source": [
        "def hello():\n",
        "  print(\"hello world !\")\n",
        "  return 1\n",
        "hello()"
      ],
      "metadata": {
        "colab": {
          "base_uri": "https://localhost:8080/"
        },
        "id": "wuIPmRhJ3mBI",
        "outputId": "ee39fdb1-394a-448b-a6ce-c55228bc58bb"
      },
      "execution_count": null,
      "outputs": [
        {
          "output_type": "stream",
          "name": "stdout",
          "text": [
            "hello world !\n"
          ]
        },
        {
          "output_type": "execute_result",
          "data": {
            "text/plain": [
              "1"
            ]
          },
          "metadata": {},
          "execution_count": 13
        }
      ]
    },
    {
      "cell_type": "code",
      "source": [
        "hello"
      ],
      "metadata": {
        "colab": {
          "base_uri": "https://localhost:8080/"
        },
        "id": "-N7ReYoD3mCb",
        "outputId": "c34a322c-8c6b-427f-e011-ce4bb33ca30e"
      },
      "execution_count": null,
      "outputs": [
        {
          "output_type": "execute_result",
          "data": {
            "text/plain": [
              "<function __main__.hello()>"
            ]
          },
          "metadata": {},
          "execution_count": 14
        }
      ]
    },
    {
      "cell_type": "code",
      "source": [
        "def func(a,b=10 ,c):\n",
        "  print(a,b,c)"
      ],
      "metadata": {
        "colab": {
          "base_uri": "https://localhost:8080/",
          "height": 130
        },
        "id": "SRarDsGR3mNM",
        "outputId": "4425c45c-15f9-4ae9-e083-2e7976028c75"
      },
      "execution_count": null,
      "outputs": [
        {
          "output_type": "error",
          "ename": "SyntaxError",
          "evalue": "ignored",
          "traceback": [
            "\u001b[0;36m  File \u001b[0;32m\"<ipython-input-15-b7c592c53b28>\"\u001b[0;36m, line \u001b[0;32m1\u001b[0m\n\u001b[0;31m    def func(a,b=10 ,c):\u001b[0m\n\u001b[0m             ^\u001b[0m\n\u001b[0;31mSyntaxError\u001b[0m\u001b[0;31m:\u001b[0m non-default argument follows default argument\n"
          ]
        }
      ]
    },
    {
      "cell_type": "code",
      "source": [
        "#    *args  **kwargs"
      ],
      "metadata": {
        "id": "1g4rRkjH3mQP"
      },
      "execution_count": null,
      "outputs": []
    },
    {
      "cell_type": "code",
      "source": [
        "print(1,2,3,4,5,6)"
      ],
      "metadata": {
        "colab": {
          "base_uri": "https://localhost:8080/"
        },
        "id": "4rt_yZJj3mTX",
        "outputId": "ab832847-f913-4eaf-9263-eb7ac199f4ee"
      },
      "execution_count": null,
      "outputs": [
        {
          "output_type": "stream",
          "name": "stdout",
          "text": [
            "1 2 3 4 5 6\n"
          ]
        }
      ]
    },
    {
      "cell_type": "code",
      "source": [
        "# Arguments in other language\n",
        "\n",
        "# Required arguments 'func(a)'\n",
        "#  Default argument 'func(b=1)'\n",
        "\n",
        "# Argument in python\n",
        "\n",
        "# Required arguments\n",
        "# Default arguments\n",
        "# Optional positional only arguments\n",
        "# Required keyworded only argumentrd\n",
        "# Default keyworded only arguments\n",
        "# Optional keyworded only arguments"
      ],
      "metadata": {
        "id": "c68CTbWn3mWO"
      },
      "execution_count": null,
      "outputs": []
    },
    {
      "cell_type": "code",
      "source": [
        "def func(a,b):\n",
        "  print(a,b)\n",
        "func(1,2)\n"
      ],
      "metadata": {
        "colab": {
          "base_uri": "https://localhost:8080/"
        },
        "id": "XGe6gy943mj5",
        "outputId": "ab0b29ef-5f51-4411-b7f3-ec29e70b269f"
      },
      "execution_count": null,
      "outputs": [
        {
          "output_type": "stream",
          "name": "stdout",
          "text": [
            "1 2\n"
          ]
        }
      ]
    },
    {
      "cell_type": "code",
      "source": [
        "def func(a=1 , b=2):\n",
        "  print(a,b)\n",
        "func()\n",
        "func(1)\n",
        "func(3,4)"
      ],
      "metadata": {
        "colab": {
          "base_uri": "https://localhost:8080/"
        },
        "id": "jciqDN4i30EQ",
        "outputId": "7e8d8551-1602-4bb8-971c-65cd45ed979c"
      },
      "execution_count": null,
      "outputs": [
        {
          "output_type": "stream",
          "name": "stdout",
          "text": [
            "1 2\n",
            "1 2\n",
            "3 4\n"
          ]
        }
      ]
    },
    {
      "cell_type": "code",
      "source": [
        "def func(*a):\n",
        "  print(a)\n",
        "func(1,2,3,4)"
      ],
      "metadata": {
        "colab": {
          "base_uri": "https://localhost:8080/"
        },
        "id": "Pq8eGrgR30HO",
        "outputId": "0f596e03-dd98-4634-dba6-68bb80d23dc1"
      },
      "execution_count": null,
      "outputs": [
        {
          "output_type": "stream",
          "name": "stdout",
          "text": [
            "(1, 2, 3, 4)\n"
          ]
        }
      ]
    },
    {
      "cell_type": "code",
      "source": [
        "def func(a,b, *c):\n",
        "  print(a)\n",
        "  print(b)\n",
        "  print(c)\n",
        "func(1,2,3,4,\"jatin \",8)\n"
      ],
      "metadata": {
        "colab": {
          "base_uri": "https://localhost:8080/"
        },
        "id": "2rPZlAhH30KF",
        "outputId": "b2b42ccb-582c-40aa-b0dd-5512d7b0ec54"
      },
      "execution_count": null,
      "outputs": [
        {
          "output_type": "stream",
          "name": "stdout",
          "text": [
            "1\n",
            "2\n",
            "(3, 4, 'jatin ', 8)\n"
          ]
        }
      ]
    },
    {
      "cell_type": "code",
      "source": [
        "def func(a,b,*c,d):\n",
        "  print(a)\n",
        "  print(b)\n",
        "  print(c)\n",
        "  print(d)\n",
        "func(1,2,3,4,5,6,6,7,8,9,6,4)\n"
      ],
      "metadata": {
        "colab": {
          "base_uri": "https://localhost:8080/",
          "height": 232
        },
        "id": "IJpZSwJ430M8",
        "outputId": "b973fd01-bed8-474c-efad-8986406fa599"
      },
      "execution_count": null,
      "outputs": [
        {
          "output_type": "error",
          "ename": "TypeError",
          "evalue": "ignored",
          "traceback": [
            "\u001b[0;31m---------------------------------------------------------------------------\u001b[0m",
            "\u001b[0;31mTypeError\u001b[0m                                 Traceback (most recent call last)",
            "\u001b[0;32m<ipython-input-23-f3759c3a296e>\u001b[0m in \u001b[0;36m<module>\u001b[0;34m\u001b[0m\n\u001b[1;32m      4\u001b[0m   \u001b[0mprint\u001b[0m\u001b[0;34m(\u001b[0m\u001b[0mc\u001b[0m\u001b[0;34m)\u001b[0m\u001b[0;34m\u001b[0m\u001b[0;34m\u001b[0m\u001b[0m\n\u001b[1;32m      5\u001b[0m   \u001b[0mprint\u001b[0m\u001b[0;34m(\u001b[0m\u001b[0md\u001b[0m\u001b[0;34m)\u001b[0m\u001b[0;34m\u001b[0m\u001b[0;34m\u001b[0m\u001b[0m\n\u001b[0;32m----> 6\u001b[0;31m \u001b[0mfunc\u001b[0m\u001b[0;34m(\u001b[0m\u001b[0;36m1\u001b[0m\u001b[0;34m,\u001b[0m\u001b[0;36m2\u001b[0m\u001b[0;34m,\u001b[0m\u001b[0;36m3\u001b[0m\u001b[0;34m,\u001b[0m\u001b[0;36m4\u001b[0m\u001b[0;34m,\u001b[0m\u001b[0;36m5\u001b[0m\u001b[0;34m,\u001b[0m\u001b[0;36m6\u001b[0m\u001b[0;34m,\u001b[0m\u001b[0;36m6\u001b[0m\u001b[0;34m,\u001b[0m\u001b[0;36m7\u001b[0m\u001b[0;34m,\u001b[0m\u001b[0;36m8\u001b[0m\u001b[0;34m,\u001b[0m\u001b[0;36m9\u001b[0m\u001b[0;34m,\u001b[0m\u001b[0;36m6\u001b[0m\u001b[0;34m,\u001b[0m\u001b[0;36m4\u001b[0m\u001b[0;34m)\u001b[0m\u001b[0;34m\u001b[0m\u001b[0;34m\u001b[0m\u001b[0m\n\u001b[0m",
            "\u001b[0;31mTypeError\u001b[0m: func() missing 1 required keyword-only argument: 'd'"
          ]
        }
      ]
    },
    {
      "cell_type": "code",
      "source": [
        "def func(a,b,*c,d):\n",
        "  print(a)\n",
        "  print(b)\n",
        "  print(c)\n",
        "  print(d)\n",
        "func(1,2,3,4,5,6,6,7,8,9,6,d=4)"
      ],
      "metadata": {
        "id": "mM5cb-wC30Pz"
      },
      "execution_count": null,
      "outputs": []
    },
    {
      "cell_type": "code",
      "source": [
        "def func(a,b,*c,d,e=\"jatin\"):\n",
        "  print(a)\n",
        "  print(b)\n",
        "  print(c)\n",
        "  print(d)\n",
        "  print(e)\n",
        "func(1,2,3,4,5,6,d=\"some\")\n"
      ],
      "metadata": {
        "colab": {
          "base_uri": "https://localhost:8080/"
        },
        "id": "AFtEBf9N30Sa",
        "outputId": "05d67026-fec0-43bf-ea61-07f41b8d018d"
      },
      "execution_count": null,
      "outputs": [
        {
          "output_type": "stream",
          "name": "stdout",
          "text": [
            "1\n",
            "2\n",
            "(3, 4, 5, 6)\n",
            "some\n",
            "jatin\n"
          ]
        }
      ]
    },
    {
      "cell_type": "code",
      "source": [
        "def func(a,b,*c,d,e=\"jatin\"):\n",
        "  print(a)\n",
        "  print(b)\n",
        "  print(c)\n",
        "  print(d)\n",
        "  print(e)\n",
        "func(1,2,3,4,5,6,d=\"some\",e=\"asdf\")\n",
        "     "
      ],
      "metadata": {
        "colab": {
          "base_uri": "https://localhost:8080/"
        },
        "id": "o7GDdHyQ30Vj",
        "outputId": "fb72b100-2606-45e6-cd25-8eaf2dc6a2c3"
      },
      "execution_count": null,
      "outputs": [
        {
          "output_type": "stream",
          "name": "stdout",
          "text": [
            "1\n",
            "2\n",
            "(3, 4, 5, 6)\n",
            "some\n",
            "asdf\n"
          ]
        }
      ]
    },
    {
      "cell_type": "code",
      "source": [
        "def func(**k):\n",
        "  print(k)\n",
        "func(name=\"keratin\")"
      ],
      "metadata": {
        "colab": {
          "base_uri": "https://localhost:8080/"
        },
        "id": "6YjJYWY54H_I",
        "outputId": "7fb9142a-ea00-41eb-e39c-b42e9665148d"
      },
      "execution_count": null,
      "outputs": [
        {
          "output_type": "stream",
          "name": "stdout",
          "text": [
            "{'name': 'keratin'}\n"
          ]
        }
      ]
    },
    {
      "cell_type": "code",
      "source": [
        "def func(a,b=1,*c,d,e=\"\",**k):\n",
        "  print(k)"
      ],
      "metadata": {
        "id": "vBDTrXvH4IA_"
      },
      "execution_count": null,
      "outputs": []
    },
    {
      "cell_type": "code",
      "source": [
        "# Anonymous function or lambda function\n",
        "lambda a,b: a+b\n",
        "d(2,6)"
      ],
      "metadata": {
        "colab": {
          "base_uri": "https://localhost:8080/",
          "height": 232
        },
        "id": "hVHQWl_j4IDh",
        "outputId": "2947fe0f-385a-467d-8b93-a4d9d5078aba"
      },
      "execution_count": null,
      "outputs": [
        {
          "output_type": "error",
          "ename": "NameError",
          "evalue": "ignored",
          "traceback": [
            "\u001b[0;31m---------------------------------------------------------------------------\u001b[0m",
            "\u001b[0;31mNameError\u001b[0m                                 Traceback (most recent call last)",
            "\u001b[0;32m<ipython-input-29-c45dd76d0f1e>\u001b[0m in \u001b[0;36m<module>\u001b[0;34m\u001b[0m\n\u001b[1;32m      1\u001b[0m \u001b[0;31m# Anonymous function or lambda function\u001b[0m\u001b[0;34m\u001b[0m\u001b[0;34m\u001b[0m\u001b[0;34m\u001b[0m\u001b[0m\n\u001b[1;32m      2\u001b[0m \u001b[0;32mlambda\u001b[0m \u001b[0ma\u001b[0m\u001b[0;34m,\u001b[0m\u001b[0mb\u001b[0m\u001b[0;34m:\u001b[0m \u001b[0ma\u001b[0m\u001b[0;34m+\u001b[0m\u001b[0mb\u001b[0m\u001b[0;34m\u001b[0m\u001b[0;34m\u001b[0m\u001b[0m\n\u001b[0;32m----> 3\u001b[0;31m \u001b[0md\u001b[0m\u001b[0;34m(\u001b[0m\u001b[0;36m2\u001b[0m\u001b[0;34m,\u001b[0m\u001b[0;36m6\u001b[0m\u001b[0;34m)\u001b[0m\u001b[0;34m\u001b[0m\u001b[0;34m\u001b[0m\u001b[0m\n\u001b[0m",
            "\u001b[0;31mNameError\u001b[0m: name 'd' is not defined"
          ]
        }
      ]
    },
    {
      "cell_type": "code",
      "source": [
        "lambda a,b: a+b"
      ],
      "metadata": {
        "colab": {
          "base_uri": "https://localhost:8080/"
        },
        "id": "Ytn7OREH4IGK",
        "outputId": "33129883-4531-4bca-de57-73957f97cdad"
      },
      "execution_count": null,
      "outputs": [
        {
          "output_type": "execute_result",
          "data": {
            "text/plain": [
              "<function __main__.<lambda>(a, b)>"
            ]
          },
          "metadata": {},
          "execution_count": 30
        }
      ]
    },
    {
      "cell_type": "code",
      "source": [
        "sorted([4,8,1,0,7,5])"
      ],
      "metadata": {
        "colab": {
          "base_uri": "https://localhost:8080/"
        },
        "id": "iXYGPk9U4OMh",
        "outputId": "150e510b-5f1d-4a6e-d725-5388e425dd41"
      },
      "execution_count": null,
      "outputs": [
        {
          "output_type": "execute_result",
          "data": {
            "text/plain": [
              "[0, 1, 4, 5, 7, 8]"
            ]
          },
          "metadata": {},
          "execution_count": 31
        }
      ]
    },
    {
      "cell_type": "code",
      "source": [
        "a=1\n",
        "b=2\n",
        "c=print(a+b)\n",
        "print(c)\n"
      ],
      "metadata": {
        "colab": {
          "base_uri": "https://localhost:8080/"
        },
        "id": "DoZFD43d4OQl",
        "outputId": "605eba78-5c2b-469e-b08a-2763640ba0f8"
      },
      "execution_count": null,
      "outputs": [
        {
          "output_type": "stream",
          "name": "stdout",
          "text": [
            "3\n",
            "None\n"
          ]
        }
      ]
    },
    {
      "cell_type": "code",
      "source": [
        "def func(a):\n",
        "  a()\n",
        "func(a=lambda:print(\"hello\"))"
      ],
      "metadata": {
        "colab": {
          "base_uri": "https://localhost:8080/"
        },
        "id": "mz2NZd-l4OTs",
        "outputId": "0f81b2ef-ba1f-4d49-c239-7429ac974afa"
      },
      "execution_count": null,
      "outputs": [
        {
          "output_type": "stream",
          "name": "stdout",
          "text": [
            "hello\n"
          ]
        }
      ]
    }
  ]
}